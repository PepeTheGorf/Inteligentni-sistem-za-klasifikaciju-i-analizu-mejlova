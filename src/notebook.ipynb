{
 "cells": [
  {
   "cell_type": "markdown",
   "id": "3f1c0481",
   "metadata": {},
   "source": [
    "# Sistem za klasifikaciju email-ova\n",
    "\n",
    "## Uvod\n",
    "\n",
    "Ovaj notebook prikazuje dva pristupa klasifikaciji e-mail poruka na **spam** i **ham**:\n",
    "\n",
    "1. **Klasični pristup (Bag-of-Words + Naive Bayes)**\n",
    "   - Čišćenje i normalizacija teksta\n",
    "   - Numerička reprezentacija pomoću BoW\n",
    "   - Trening jednostavnog Naive Bayes modela\n",
    "   - Evaluacija modela: Accuracy, Precision, Recall, F1-score, Precision Matrix\n",
    "   - Opcionalno balansiranje klasa sa SMOTE\n",
    "\n",
    "2. **Napredni pristup (BERT Transformer)**\n",
    "   - Korišćenje unapred treniranog BERT modela (DistilBERT-a. RoBERTa, BERT-Base)\n",
    "   - Fine-tuning BERT-a na našem dataset-u za klasifikaciju spam/ham\n",
    "   - Evaluacija performansi na test skupu\n",
    "   - Upoređivanje rezultata sa Naive Bayes klasifikatorom\n",
    "\n",
    "**Cilj:** Demonstrirati razliku između klasičnog modela i moćnog modernog NLP transformera, kao i razumeti prednosti BERT-a kod tekstualnih klasifikacija."
   ]
  },
  {
   "cell_type": "markdown",
   "id": "6afb83dd",
   "metadata": {},
   "source": [
    "## Klasifikaciju pomoću Naive Bayes-a\n",
    "\n",
    "### Biblioteke\n",
    "\n",
    "Uvoz potrebnih biblioteka za obradu podataka, metrike, balansiranje klasa i vizualizaciju."
   ]
  },
  {
   "cell_type": "code",
   "execution_count": null,
   "id": "012537e1",
   "metadata": {},
   "outputs": [],
   "source": [
    "import pandas as pd\n",
    "import re\n",
    "import numpy as np\n",
    "from collections import Counter\n",
    "from sklearn.metrics import accuracy_score, precision_score, recall_score, f1_score, confusion_matrix, ConfusionMatrixDisplay\n",
    "from imblearn.over_sampling import SMOTE\n",
    "from matplotlib import pyplot as plt"
   ]
  },
  {
   "cell_type": "markdown",
   "id": "2cc1672b",
   "metadata": {},
   "source": [
    "## Pripremanje podataka data set-a za obradu\n",
    "\n",
    "Čistimo tekst od ne potrebnih reči, učitavamo setove, izbacujemo nepotrebne kolone, pretvaramo podatke kako bih ih mogli lako obraditi."
   ]
  },
  {
   "cell_type": "code",
   "execution_count": null,
   "id": "95f13be6",
   "metadata": {},
   "outputs": [],
   "source": [
    "#formatting text\n",
    "def clean_text(text: str) -> str:\n",
    "    if not isinstance(text, str):\n",
    "        return \"\"\n",
    "    text = text.lower()\n",
    "    text = re.sub(r\"subject:\", \"\", text)\n",
    "    text = re.sub(r\"http\\S+|www\\S+\", \"\", text)\n",
    "    text = re.sub(r\"\\d+\", \"\", text)\n",
    "    text = re.sub(r\"[^a-z\\s]\", \" \", text)\n",
    "    text = re.sub(r\"\\s+\", \" \", text)\n",
    "\n",
    "    return text.strip()\n",
    "\n",
    "#preparing dataset\n",
    "def load_datasets():\n",
    "    df_enron = pd.read_csv(\"../data/enron_mails.csv\").dropna(subset=[\"Message\"])\n",
    "    df_venky = pd.read_csv(\"../data/venky_spam_ham_dataset.csv\").dropna(subset=[\"text\"])\n",
    "\n",
    "    df_enron[\"full_text\"] = (\n",
    "        df_enron[\"Subject\"].fillna(\"\") + \" \" + df_enron[\"Message\"].fillna(\"\")\n",
    "    ).apply(clean_text)\n",
    "    df_venky[\"text\"] = df_venky[\"text\"].apply(clean_text)\n",
    "\n",
    "    df_enron[\"label_num\"] = df_enron[\"Spam/Ham\"].map({\"ham\": 0, \"spam\": 1})\n",
    "    df_venky[\"label_num\"] = df_venky[\"label\"].map({\"ham\": 0, \"spam\": 1})\n",
    "\n",
    "    return df_enron, df_venky"
   ]
  }
 ],
 "metadata": {
  "kernelspec": {
   "display_name": "Python 3",
   "language": "python",
   "name": "python3"
  },
  "language_info": {
   "name": "python",
   "version": "3.12.6"
  }
 },
 "nbformat": 4,
 "nbformat_minor": 5
}
