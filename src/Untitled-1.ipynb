{
 "cells": [
  {
   "cell_type": "markdown",
   "id": "d25a4d78",
   "metadata": {},
   "source": [
    "# Sistem za klasifikaciju email-ova\n",
    "\n",
    "## Uvod\n",
    "\n",
    "Ovaj notebook prikazuje dva pristupa klasifikaciji e-mail poruka na **spam** i **ham**:\n",
    "\n",
    "1. **Klasični pristup (Bag-of-Words + Naive Bayes)**\n",
    "   - Čišćenje i normalizacija teksta\n",
    "   - Numerička reprezentacija pomoću BoW\n",
    "   - Trening jednostavnog Naive Bayes modela\n",
    "   - Evaluacija modela: Accuracy, Precision, Recall, F1-score, Precision Matrix\n",
    "   - Opcionalno balansiranje klasa sa SMOTE\n",
    "\n",
    "2. **Napredni pristup (BERT Transformer)**\n",
    "   - Korišćenje unapred treniranog BERT modela (DistilBERT-a. RoBERTa, BERT-Base)\n",
    "   - Fine-tuning BERT-a na našem dataset-u za klasifikaciju spam/ham\n",
    "   - Evaluacija performansi na test skupu\n",
    "   - Upoređivanje rezultata sa Naive Bayes klasifikatorom\n",
    "\n",
    "**Cilj:** Demonstrirati razliku između klasičnog modela i moćnog modernog NLP transformera, kao i razumeti prednosti BERT-a kod tekstualnih klasifikacija."
   ]
  },
  {
   "cell_type": "markdown",
   "id": "9ba88754",
   "metadata": {},
   "source": [
    "## Klasifikaciju pomoću Naive Bayes-a\n",
    "\n",
    "### Biblioteke\n",
    "\n",
    "Uvoz potrebnih biblioteka za obradu podataka, metrike, balansiranje klasa i vizualizaciju."
   ]
  },
  {
   "cell_type": "code",
   "execution_count": null,
   "id": "93a80207",
   "metadata": {},
   "outputs": [],
   "source": [
    "import pandas as pd\n",
    "import re\n",
    "import numpy as np\n",
    "from collections import Counter\n",
    "from sklearn.metrics import accuracy_score, precision_score, recall_score, f1_score, confusion_matrix, ConfusionMatrixDisplay\n",
    "from imblearn.over_sampling import SMOTE\n",
    "from matplotlib import pyplot as plt"
   ]
  },
  {
   "cell_type": "markdown",
   "id": "8a7a8931",
   "metadata": {},
   "source": [
    "### Funkcije za čišćenje code-a\n",
    "\n",
    "Normalizacija teksta: mala slova, uklanjanje linkova, brojeva i specijalnih karaktera, višestrukih razmaka."
   ]
  },
  {
   "cell_type": "code",
   "execution_count": null,
   "id": "101877c4",
   "metadata": {},
   "outputs": [
    {
     "ename": "",
     "evalue": "",
     "output_type": "error",
     "traceback": [
      "\u001b[1;31mRunning cells with 'Python 3.12.6' requires the ipykernel package.\n",
      "\u001b[1;31m<a href='command:jupyter.createPythonEnvAndSelectController'>Create a Python Environment</a> with the required packages.\n",
      "\u001b[1;31mOr install 'ipykernel' using the command: 'c:/Python312/python.exe -m pip install ipykernel -U --user --force-reinstall'"
     ]
    }
   ],
   "source": [
    "def clean_text(text: str) -> str:\n",
    "    if not isinstance(text, str):\n",
    "        return \"\"\n",
    "    text = text.lower()\n",
    "    text = re.sub(r\"subject:\", \"\", text)\n",
    "    text = re.sub(r\"http\\S+|www\\S+\", \"\", text)\n",
    "    text = re.sub(r\"\\d+\", \"\", text)\n",
    "    text = re.sub(r\"[^a-z\\s]\", \" \", text)\n",
    "    text = re.sub(r\"\\s+\", \" \", text)\n",
    "\n",
    "    return text.strip()"
   ]
  },
  {
   "cell_type": "markdown",
   "id": "d56f9649",
   "metadata": {},
   "source": [
    "## Učitavanje dataset-a\n",
    "\n",
    "-Učitavanje Enron i Venky dataset-a\n",
    "\n",
    "-Kreiranje full_text kolone i numeričkih labela"
   ]
  },
  {
   "cell_type": "code",
   "execution_count": null,
   "id": "06da99fd",
   "metadata": {},
   "outputs": [],
   "source": [
    "def load_datasets():\n",
    "    df_enron = pd.read_csv(\"../data/enron_mails.csv\").dropna(subset=[\"Message\"])\n",
    "    df_venky = pd.read_csv(\"../data/venky_spam_ham_dataset.csv\").dropna(subset=[\"text\"])\n",
    "\n",
    "    df_enron[\"full_text\"] = (\n",
    "        df_enron[\"Subject\"].fillna(\"\") + \" \" + df_enron[\"Message\"].fillna(\"\")\n",
    "    ).apply(clean_text)\n",
    "    df_venky[\"text\"] = df_venky[\"text\"].apply(clean_text)\n",
    "\n",
    "    df_enron[\"label_num\"] = df_enron[\"Spam/Ham\"].map({\"ham\": 0, \"spam\": 1})\n",
    "    df_venky[\"label_num\"] = df_venky[\"label\"].map({\"ham\": 0, \"spam\": 1})\n",
    "\n",
    "    return df_enron, df_venky\n",
    "\n",
    "#primer prikaza nekoliko redova\n",
    "df_enron, df_venky = load_datasets()\n",
    "df_enron.head()"
   ]
  }
 ],
 "metadata": {
  "kernelspec": {
   "display_name": "Python 3",
   "language": "python",
   "name": "python3"
  },
  "language_info": {
   "name": "python",
   "version": "3.12.6"
  }
 },
 "nbformat": 4,
 "nbformat_minor": 5
}
