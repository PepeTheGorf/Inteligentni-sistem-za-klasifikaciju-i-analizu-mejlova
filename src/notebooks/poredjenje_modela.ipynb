{
 "cells": [
  {
   "metadata": {},
   "cell_type": "markdown",
   "source": [
    "#  Uvod\n",
    "\n",
    "U ovom delu projekta prikazano je **poređenje različitih pristupa klasifikaciji email-ova** na problemu detekcije neželjenih poruka (*spam/ham*).\n",
    "Cilj je bio da se uporedi performansa klasičnih metoda obrade teksta, kao što je **Bag-of-Words (BoW)** u kombinaciji sa **Naive Bayes** klasifikatorom, sa savremenim transformer modelima koji koriste **BERT arhitekturu** i njene varijante.\n",
    "\n",
    "Dok BoW + NB pristup koristi statističke obrasce reči i bajesovu teoremu za odlučivanje o klasi, transformer modeli (*BERT, DistilBERT, RoBERTa*) uče kontekstualne reprezentacije teksta, čime bolje razumeju značenje rečenica, odnose između reči i suptilne semantičke razlike između legitimnih i spam poruka.\n",
    "\n",
    "---\n",
    "\n",
    "### Scenariji testiranja\n",
    "\n",
    "- **Single dataset treniranje**\n",
    "  Model je treniran i testiran na delovima istog skupa podataka (npr. *Enron dataset*).\n",
    "\n",
    "- **Cross-dataset evaluacija**\n",
    "  Model je treniran na jednom skupu (*Enron*), a testiran na drugom (*Venky*), kako bi se proverila generalizacija modela na nove, nepoznate podatke.\n",
    "\n",
    "---\n",
    "\n",
    "Ovaj notebook prikazuje uporedne rezultate po ključnim metrikama:\n",
    "\n",
    "- Accuracy\n",
    "- Precision\n",
    "- Recall\n",
    "- F1-score\n",
    "- Confusion Matrix\n"
   ],
   "id": "5044b35b40ae46b2"
  },
  {
   "metadata": {},
   "cell_type": "markdown",
   "source": "## Grafički prikaz; upoređivanje svih metrika\n",
   "id": "76d4656a041807c3"
  },
  {
   "metadata": {},
   "cell_type": "code",
   "outputs": [],
   "execution_count": null,
   "source": [
    "import pandas as pd\n",
    "import matplotlib.pyplot as plt\n",
    "\n",
    "df = pd.DataFrame({\n",
    "    \"Model\": [\"BoW + NB\", \"DistilBERT\", \"BERT-base\", \"RoBERTa\"],\n",
    "    \"Accuracy\": [0.9824, 0.9898, 0.9919, 0.9942],\n",
    "    \"Precision\": [0.9607, 0.9925, 0.9973, 0.9966],\n",
    "    \"Recall\": [0.9793, 0.9720, 0.9746, 0.9833],\n",
    "    \"F1-score\": [0.9699, 0.9821, 0.9858, 0.9899]\n",
    "})\n",
    "\n",
    "metrics = [\"Accuracy\", \"Precision\", \"Recall\", \"F1-score\"]\n",
    "df_plot = df.melt(id_vars=\"Model\", value_vars=metrics, var_name=\"Metric\", value_name=\"Score\")\n",
    "\n",
    "plt.figure(figsize=(10, 6))\n",
    "for metric in metrics:\n",
    "    subset = df_plot[df_plot[\"Metric\"] == metric]\n",
    "    plt.plot(subset[\"Model\"], subset[\"Score\"], marker=\"o\", label=metric)\n",
    "\n",
    "plt.xticks(rotation=45, ha=\"right\")\n",
    "plt.ylim(0.95, 1.0)\n",
    "plt.title(\"Uporedna analiza metrika modela (Cross Dataset, sa SMOTE)\")\n",
    "plt.xlabel(\"Model\")\n",
    "plt.ylabel(\"Rezultat\")\n",
    "plt.legend()\n",
    "plt.grid(True, linestyle=\"--\", alpha=0.5)\n",
    "plt.tight_layout()\n",
    "plt.show()\n"
   ],
   "id": "430362a2f03d94ec"
  },
  {
   "metadata": {},
   "cell_type": "code",
   "outputs": [],
   "execution_count": null,
   "source": [
    "import matplotlib.pyplot as plt\n",
    "from sklearn.metrics import ConfusionMatrixDisplay\n",
    "import numpy as np\n",
    "\n",
    "conf_matrices = {\n",
    "    \"BoW + NB (cross dataset)\": np.array([[3612, 60],\n",
    "                                          [31, 1468]]),\n",
    "    \"BERT (cross dataset)\": np.array([[3668, 4],\n",
    "                                      [38, 1461]]),\n",
    "    \"DistilBERT (cross dataset)\": np.array([[3661, 11],\n",
    "                                            [42, 1457]]),\n",
    "    \"RoBERTa (cross dataset)\": np.array([[3667, 5],\n",
    "                                         [25, 1474]]),\n",
    "}\n",
    "\n",
    "fig, axes = plt.subplots(2, 2, figsize=(12, 8))\n",
    "axes = axes.flatten()\n",
    "\n",
    "for ax, (name, cm) in zip(axes, conf_matrices.items()):\n",
    "    disp = ConfusionMatrixDisplay(confusion_matrix=cm, display_labels=[\"Ham\", \"Spam\"])\n",
    "    disp.plot(ax=ax, cmap=\"Blues\", colorbar=False)\n",
    "    ax.set_title(name)\n",
    "\n",
    "for ax in axes[len(conf_matrices):]:\n",
    "    ax.axis(\"off\")\n",
    "\n",
    "plt.suptitle(\"Confusion matrice modela (Spam detekcija)\", fontsize=14)\n",
    "plt.tight_layout()\n",
    "plt.show()\n"
   ],
   "id": "4a75150c47220359"
  },
  {
   "metadata": {},
   "cell_type": "markdown",
   "source": [
    "## Zaključak\n",
    "\n",
    "Rezultati pokazuju da transformer modeli  ostvaruju najviše performanse\n",
    "u pogledu tačnosti i F1-score vrednosti, dok **klasični BoW + NB pristup** i dalje pokazuje solidne rezultate\n",
    "uz znatno manju računarsku složenost.\n",
    "\n",
    "U *cross-dataset* scenarijima, modeli zasnovani na BERT arhitekturi pokazuju **bolju generalizaciju**\n",
    "u poređenju sa BoW + NB pristupom, koji nešto više gubi na preciznosti prilikom prelaska na novi skup podataka.\n",
    "\n",
    "Ova analiza potvrđuje značaj kontekstualnog razumevanja teksta kod detekcije spama.\n"
   ],
   "id": "dc78aacb10c5033d"
  }
 ],
 "metadata": {
  "kernelspec": {
   "display_name": "Python 3",
   "language": "python",
   "name": "python3"
  },
  "language_info": {
   "codemirror_mode": {
    "name": "ipython",
    "version": 2
   },
   "file_extension": ".py",
   "mimetype": "text/x-python",
   "name": "python",
   "nbconvert_exporter": "python",
   "pygments_lexer": "ipython2",
   "version": "2.7.6"
  }
 },
 "nbformat": 4,
 "nbformat_minor": 5
}
